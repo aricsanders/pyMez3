{
 "cells": [
  {
   "cell_type": "markdown",
   "metadata": {},
   "source": [
    "# File Register Example\n",
    "How to use an XML based file register class. "
   ]
  },
  {
   "cell_type": "markdown",
   "metadata": {},
   "source": [
    "## Import pyMez \n",
    "The XMLModels module (pyMez.Code.DataHandlers.XMLModels) has the FileRegister class."
   ]
  },
  {
   "cell_type": "code",
   "execution_count": 1,
   "metadata": {},
   "outputs": [
    {
     "name": "stdout",
     "output_type": "stream",
     "text": [
      "Importing pyMez, this should take roughly 30 seconds\n",
      "Importing Code.DataHandlers.GeneralModels\n",
      "It took 2.410138 s to import Code.DataHandlers.GeneralModels\n",
      "Importing Code.DataHandlers.HTMLModels\n",
      "It took 0.70104 s to import Code.DataHandlers.HTMLModels\n",
      "Importing Code.DataHandlers.NISTModels\n",
      "The module smithplot was not found,please put it on the python path\n",
      "It took 3.785216 s to import Code.DataHandlers.NISTModels\n",
      "Importing Code.DataHandlers.TouchstoneModels\n",
      "It took 0.0 s to import Code.DataHandlers.TouchstoneModels\n",
      "Importing Code.DataHandlers.XMLModels\n",
      "It took 0.484028 s to import Code.DataHandlers.XMLModels\n",
      "Importing Code.DataHandlers.ZipModels\n",
      "It took 0.031002 s to import Code.DataHandlers.ZipModels\n",
      "Importing Code.InstrumentControl.Experiments\n",
      "It took 11.412653 s to import Code.InstrumentControl.Experiments\n",
      "Importing Code.InstrumentControl.Instruments\n",
      "It took 0.001 s to import Code.InstrumentControl.Instruments\n",
      "Importing Code.Utils.Names\n",
      "It took 0.0 s to import Code.Utils.Names\n",
      "It took 18.827077 s to import all of the active modules\n"
     ]
    }
   ],
   "source": [
    "from pyMez import *"
   ]
  },
  {
   "cell_type": "code",
   "execution_count": 2,
   "metadata": {},
   "outputs": [],
   "source": [
    "# Create a new file register\n",
    "new_file_register=FileRegister()"
   ]
  },
  {
   "cell_type": "code",
   "execution_count": 3,
   "metadata": {},
   "outputs": [],
   "source": [
    "# now add all the files in the current working directory\n",
    "new_file_register.add_tree(os.getcwd())"
   ]
  },
  {
   "cell_type": "code",
   "execution_count": 8,
   "metadata": {},
   "outputs": [
    {
     "data": {
      "text/plain": [
       "{'Id': '192.168.1.2.11.11.11.11.11.11.11.11.11',\n",
       " 'Host': '672PIF-AS1.campus.nist.gov',\n",
       " 'Date': '2018-11-14T05:33:10.839647',\n",
       " 'URL': 'file:C:/Users/sandersa/PyCharmProjects/pyMez3/Documentation/Examples/jupyter/.ipynb_checkpoints',\n",
       " 'Type': 'Directory'}"
      ]
     },
     "execution_count": 8,
     "metadata": {},
     "output_type": "execute_result"
    }
   ],
   "source": [
    "# now we have created an xml sheet with all of the current files and directories and a ip like id\n",
    "new_file_register.get_data_dictionary_list()[0]"
   ]
  },
  {
   "cell_type": "code",
   "execution_count": 9,
   "metadata": {},
   "outputs": [],
   "source": [
    "# we can create html and show it\n",
    "html_text=new_file_register.to_HTML(os.path.join(TESTS_DIRECTORY,\"../XSL/FR_STYLE.xsl\"))"
   ]
  },
  {
   "cell_type": "code",
   "execution_count": 10,
   "metadata": {},
   "outputs": [],
   "source": [
    "html=HTMLBase(html_text=html_text)"
   ]
  },
  {
   "cell_type": "code",
   "execution_count": 11,
   "metadata": {},
   "outputs": [
    {
     "name": "stdout",
     "output_type": "stream",
     "text": [
      "file://C:/Users/sandersa/AppData/Local/Temp/1/tmpcuw13a5x.html\n"
     ]
    }
   ],
   "source": [
    "html.show()"
   ]
  },
  {
   "cell_type": "code",
   "execution_count": 12,
   "metadata": {},
   "outputs": [],
   "source": [
    "# we can add another file\n",
    "new_file_register.add_entry(os.path.join(PYMEASURE_ROOT,\"Documentation/pyMez_Documentation.html\"))"
   ]
  },
  {
   "cell_type": "code",
   "execution_count": 13,
   "metadata": {},
   "outputs": [
    {
     "data": {
      "text/plain": [
       "{'Id': '192.168.1.2.11.11.11.12.11.11.11.11.11.11.11.11.11.11.11.21',\n",
       " 'Host': '672PIF-AS1.campus.nist.gov',\n",
       " 'Date': '2018-11-14T05:42:08.649408',\n",
       " 'URL': 'file:C:/Users/sandersa/AppData/Local/Continuum/anaconda3/lib/site-packages/pyMez/Code/InstrumentControl/../../Documentation/pyMez_Documentation.html',\n",
       " 'Type': 'Ordinary'}"
      ]
     },
     "execution_count": 13,
     "metadata": {},
     "output_type": "execute_result"
    }
   ],
   "source": [
    "# now we have a dictionary representation\n",
    "new_file_register.get_data_dictionary_list()[-1]"
   ]
  },
  {
   "cell_type": "code",
   "execution_count": 21,
   "metadata": {},
   "outputs": [
    {
     "data": {
      "text/plain": [
       "['192.168.1.2.11.11.11.11.11.11.11.11.11',\n",
       " '672PIF-AS1.campus.nist.gov',\n",
       " '2018-11-14T05:33:10.839647',\n",
       " 'file:C:/Users/sandersa/PyCharmProjects/pyMez3/Documentation/Examples/jupyter/.ipynb_checkpoints',\n",
       " 'Directory']"
      ]
     },
     "execution_count": 21,
     "metadata": {},
     "output_type": "execute_result"
    }
   ],
   "source": [
    "# A list representation\n",
    "new_file_register.get_data()[0]"
   ]
  },
  {
   "cell_type": "code",
   "execution_count": 24,
   "metadata": {},
   "outputs": [
    {
     "name": "stdout",
     "output_type": "stream",
     "text": [
      "b'<File Date=\"2018-11-14T05:33:10.839647\" Host=\"672PIF-AS1.campus.nist.gov\" Id=\"192.168.1.2.11.11.11.11.11.11.11.11.11\" Type=\"Directory\" URL=\"file:C:/Users/sandersa/PyCharmProjects/pyMez3/Documentation/Examples/jupyter/.ipynb_checkpoints\"/>'\n"
     ]
    }
   ],
   "source": [
    "# and we can use xpath syntax\n",
    "print(new_file_register[\".//File\"][0])"
   ]
  }
 ],
 "metadata": {
  "kernelspec": {
   "display_name": "Python 3",
   "language": "python",
   "name": "python3"
  },
  "language_info": {
   "codemirror_mode": {
    "name": "ipython",
    "version": 3
   },
   "file_extension": ".py",
   "mimetype": "text/x-python",
   "name": "python",
   "nbconvert_exporter": "python",
   "pygments_lexer": "ipython3",
   "version": "3.7.0"
  }
 },
 "nbformat": 4,
 "nbformat_minor": 2
}
